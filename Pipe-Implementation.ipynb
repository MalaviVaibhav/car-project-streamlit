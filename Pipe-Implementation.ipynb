{
 "cells": [
  {
   "cell_type": "code",
   "execution_count": 14,
   "id": "45193491-6a7b-4b1a-ad9e-cdfbd7495695",
   "metadata": {},
   "outputs": [],
   "source": [
    "import pandas as pd\n",
    "import numpy as np\n",
    "import warnings \n",
    "warnings.filterwarnings(\"ignore\")\n",
    "from sklearn.compose import make_column_transformer \n",
    "from sklearn.preprocessing import OneHotEncoder,StandardScaler\n",
    "from sklearn.pipeline import make_pipeline\n",
    "from sklearn.model_selection import train_test_split\n",
    "from sklearn.metrics import r2_score\n",
    "from sklearn.linear_model import LinearRegression"
   ]
  },
  {
   "cell_type": "code",
   "execution_count": 2,
   "id": "1a983a20-6bae-4d94-a3e1-35ab6ff56faa",
   "metadata": {},
   "outputs": [],
   "source": [
    "df=pd.read_csv(\"EDA.csv\")"
   ]
  },
  {
   "cell_type": "code",
   "execution_count": 3,
   "id": "b476aa00-9469-4853-a382-944f1b01e1aa",
   "metadata": {},
   "outputs": [
    {
     "name": "stdout",
     "output_type": "stream",
     "text": [
      "<class 'pandas.core.frame.DataFrame'>\n",
      "RangeIndex: 704 entries, 0 to 703\n",
      "Data columns (total 7 columns):\n",
      " #   Column      Non-Null Count  Dtype \n",
      "---  ------      --------------  ----- \n",
      " 0   company     704 non-null    object\n",
      " 1   year        704 non-null    int64 \n",
      " 2   Price       704 non-null    int64 \n",
      " 3   fuel_type   704 non-null    object\n",
      " 4   Driven      704 non-null    int64 \n",
      " 5   Car_Name    704 non-null    object\n",
      " 6   Model_Info  704 non-null    object\n",
      "dtypes: int64(3), object(4)\n",
      "memory usage: 38.6+ KB\n"
     ]
    }
   ],
   "source": [
    "df.info()"
   ]
  },
  {
   "cell_type": "code",
   "execution_count": 4,
   "id": "f8cf358e-368a-4ae0-b687-f7c3d0ad2e10",
   "metadata": {},
   "outputs": [
    {
     "data": {
      "text/plain": [
       "Index(['company', 'year', 'Price', 'fuel_type', 'Driven', 'Car_Name',\n",
       "       'Model_Info'],\n",
       "      dtype='object')"
      ]
     },
     "execution_count": 4,
     "metadata": {},
     "output_type": "execute_result"
    }
   ],
   "source": [
    "df.columns"
   ]
  },
  {
   "cell_type": "code",
   "execution_count": 5,
   "id": "40686a06-b301-4a55-976c-c752a8228626",
   "metadata": {},
   "outputs": [],
   "source": [
    "X=df[['company', 'year', 'fuel_type', 'Driven', 'Car_Name','Model_Info']]\n",
    "y=df[['Price']]"
   ]
  },
  {
   "cell_type": "code",
   "execution_count": 16,
   "id": "da46cfa1-7627-44ee-ad46-5b1ad7899da9",
   "metadata": {},
   "outputs": [
    {
     "data": {
      "text/plain": [
       "[array(['Audi', 'BMW', 'Chevrolet', 'Datsun', 'Fiat', 'Force', 'Ford',\n",
       "        'Hindustan', 'Honda', 'Hyundai', 'Jaguar', 'Jeep', 'Land',\n",
       "        'Mahindra', 'Maruti', 'Mercedes', 'Mini', 'Mitsubishi', 'Nissan',\n",
       "        'Renault', 'Skoda', 'Tata', 'Toyota', 'Volkswagen', 'Volvo'],\n",
       "       dtype=object),\n",
       " array(['Diesel', 'LPG', 'Petrol'], dtype=object),\n",
       " array(['Audi A3', 'Audi A4', 'Audi A6', 'Audi Q3', 'Audi Q5', 'BMW 3',\n",
       "        'BMW 5', 'BMW 7', 'BMW X1', 'Chevrolet Beat', 'Chevrolet Cruze',\n",
       "        'Chevrolet Enjoy', 'Chevrolet Sail', 'Chevrolet Spark',\n",
       "        'Chevrolet Tavera', 'Datsun GO', 'Datsun Go', 'Datsun Redi',\n",
       "        'Fiat Linea', 'Fiat Punto', 'Force Motors', 'Ford EcoSport',\n",
       "        'Ford Endeavor', 'Ford Fiesta', 'Ford Figo', 'Ford Fusion',\n",
       "        'Hindustan Motors', 'Honda Amaze', 'Honda Brio', 'Honda City',\n",
       "        'Honda Jazz', 'Honda Mobilio', 'Honda WR', 'Hyundai Accent',\n",
       "        'Hyundai Creta', 'Hyundai Elantra', 'Hyundai Elite', 'Hyundai Eon',\n",
       "        'Hyundai Fluidic', 'Hyundai Getz', 'Hyundai Grand',\n",
       "        'Hyundai Santro', 'Hyundai Sonata', 'Hyundai Verna',\n",
       "        'Hyundai Xcent', 'Hyundai i10', 'Hyundai i20', 'Jaguar XE',\n",
       "        'Jaguar XF', 'Jeep Wrangler', 'Land Rover', 'Mahindra Bolero',\n",
       "        'Mahindra Jeep', 'Mahindra KUV100', 'Mahindra Logan',\n",
       "        'Mahindra Quanto', 'Mahindra Scorpio', 'Mahindra TUV300',\n",
       "        'Mahindra Thar', 'Mahindra XUV500', 'Mahindra Xylo',\n",
       "        'Maruti Suzuki', 'Mercedes Benz', 'Mini Cooper',\n",
       "        'Mitsubishi Pajero', 'Nissan Micra', 'Nissan Sunny',\n",
       "        'Nissan Terrano', 'Nissan X', 'Renault Duster', 'Renault Kwid',\n",
       "        'Renault Lodgy', 'Renault Scala', 'Skoda Fabia', 'Skoda Octavia',\n",
       "        'Skoda Rapid', 'Skoda Superb', 'Skoda Yeti', 'Tata Aria',\n",
       "        'Tata Bolt', 'Tata Indica', 'Tata Indigo', 'Tata Manza',\n",
       "        'Tata Sumo', 'Tata Tiago', 'Tata Tigor', 'Tata Vista', 'Tata Zest',\n",
       "        'Toyota Corolla', 'Toyota Etios', 'Toyota Fortuner',\n",
       "        'Toyota Innova', 'Volkswagen Jetta', 'Volkswagen Passat',\n",
       "        'Volkswagen Polo', 'Volkswagen Vento', 'Volvo S80'], dtype=object),\n",
       " array(['1.0', '1.0 RXT AMT', '1.2 LS', '1.2 S i VTEC', '1.2 VX i VTEC',\n",
       "        '1.2L Diesel Ambiente', '1.2L Diesel Elegance', '1.4 LS 8 STR',\n",
       "        '1.4 TDCi Diesel', '1.4 VTVT', '1.5 E i DTEC', '1.5 EXi New',\n",
       "        '1.5 S Inspire', '1.5 S MT', '1.5 S i DTEC', '1.5 SX i DTEC',\n",
       "        '1.5 V AT', '1.5 V MT', '1.5 V MT Exclusive', '1.6 CRDI E',\n",
       "        '1.6 CRDI SX', '1.6 CRDI SX Plus AT', '1.6 EX VTVT',\n",
       "        '1.6 SX Plus Petrol', '1.6 SX Plus Petrol AT', '1.6 SX VTVT AT',\n",
       "        '1.8 S', '1.8 TFSI AT', '1.8 TFSI Multitronic Premium Plus',\n",
       "        '110 PS RxL Diesel', '110 PS RxZ Diesel', '110 PS RxZ Diesel Plus',\n",
       "        '110PS Diesel RxZ', '2.0 G 8 STR BS IV', '2.0 G4',\n",
       "        '2.0 TDI 177bhp Premium', '2.0 TDI Premium',\n",
       "        '2.0 TDI quattro Premium', '2.0 TDI quattro Premium Plus',\n",
       "        '2.2 Diesel Luxury', '2.5 E 8 STR', '2.5 G BS III 8 STR',\n",
       "        '2.5 GX BS IV 7 STR', '2.5 V 7 STR', '2.5 Z Diesel 7 Seater',\n",
       "        '2.6 CRDe', '2.6 SLX', '3.0 4x2 MT', '3.0 4x4 MT',\n",
       "        '4x4 Thunder Plus', '85 PS RXL', '85 PS RxE Diesel',\n",
       "        '85 PS RxL Diesel', '85 PS RxL Explore LE',\n",
       "        '85PS Diesel RxL Optional with Nav', 'A Class A 180 Sport Petrol',\n",
       "        'A Star Lxi', 'AE GLS Audio', 'Active', 'Active 1.2 SX',\n",
       "        'Active 1.4L SX O', 'Altis', 'Altis 1.8 GL', 'Altis 1.8 J',\n",
       "        'Altis Diesel D4DG', 'Altis GL Petrol', 'Altis Petrol Ltd',\n",
       "        'Altis VL AT Petrol', 'Alto', 'Alto 800', 'Alto 800 Lx',\n",
       "        'Alto 800 Lxi', 'Alto 800 Vxi', 'Alto AX', 'Alto K10 LXi CNG',\n",
       "        'Alto K10 New', 'Alto K10 VXi', 'Alto K10 VXi AMT',\n",
       "        'Alto K10 VXi AT', 'Alto LXi BS III', 'Alto Std BS IV',\n",
       "        'Ambassador Classic Mark 4 – Befo', 'Ambiente 1.5L TDCi',\n",
       "        'Ambition 2.0 TDI CR 4x2', 'Aqua Quadrajet', 'Asta', 'Asta 1.2',\n",
       "        'Asta 1.4 CRDI 6 Speed', 'Aura Quadrajet', 'B Class B180 Sports',\n",
       "        'Baleno Delta 1.2', 'Baleno Sigma 1.2', 'Baleno Zeta 1.2',\n",
       "        'Base 1.1 CRDi', 'C Class 200 CDI Classic', 'C Class 200 K MT',\n",
       "        'C Class C 220 CDI Avantgarde', 'C4', 'C8', 'CL550 MDI',\n",
       "        'CRDe 4x4 AC', 'CS GLS', 'CS eLS BS IV', 'CS eLX BS IV',\n",
       "        'Cabriolet 40 TFSI', 'Celerio VDi', 'Ciaz VXi Plus',\n",
       "        'Ciaz ZXI Plus', 'Ciaz ZXi Plus RS', 'Classic 1.2 MPI',\n",
       "        'Classic 1.9 TDI MT', 'Comfortline 1.2L P',\n",
       "        'Comfortline 1.9 TDI AT', 'Comfortline Diesel',\n",
       "        'Comfortline Petrol', 'D Lite Plus', 'D2', 'D2 BS IV', 'DI',\n",
       "        'DI BSII', 'Diesel 1.5 DLS', 'Diesel Comfortline AT', 'Diesel EXI',\n",
       "        'Diesel EXI Option', 'Duratorq Diesel Titanium 1.4', 'Dzire',\n",
       "        'Dzire LDI', 'Dzire VDI', 'Dzire ZXI', 'E4', 'E8', 'E8 BS IV',\n",
       "        'ELAN Quadrajet', 'Eeco 5 STR WITH AC HTR', 'Eeco 7 STR',\n",
       "        'Elegance 1.6 TDI CR MT', 'Emotion 1.2',\n",
       "        'Emotion 1.4 L T Jet Petrol', 'Era', 'Era Plus', 'Ertiga',\n",
       "        'Ertiga LDi', 'Ertiga VDi', 'Ertiga Vxi', 'Ertiga ZXI Plus',\n",
       "        'Ertiga ZXi', 'Estilo LX BS IV', 'Estilo VXi ABS BS IV',\n",
       "        'Executive Edition', 'Fluidic', 'Fluidic 1.6 VTVT SX',\n",
       "        'Fluidic New', 'Force One LX ABS 7 STR', 'Freelander 2 SE', 'GD',\n",
       "        'GLA Class 200 CDI Sport', 'GO', 'GO S', 'GO T O', 'Gold EX BS IV',\n",
       "        'Gold FX BSIII', 'Gold LX BS IV', 'Gold Select Variant',\n",
       "        'Grande MKII GX', 'H2', 'Highline Exquisite P',\n",
       "        'Highline Plus 1.5 Diesel AT', 'Highline TDI AT', 'Highline1.2L P',\n",
       "        'K8 6 STR', 'K8 D 6 STR', 'Konekt Diesel Highline', 'LS', 'LS 1.0',\n",
       "        'LS B3 10 Seats BSII', 'LS Diesel', 'LS Petrol', 'LT 1.0 Airbag',\n",
       "        'LT Diesel', 'LT Opt Diesel', 'LT Petrol', 'LTZ', 'LTZ AT',\n",
       "        'LX BS III', 'LX TDI BS III', 'Liva', 'Liva Diesel', 'Liva G',\n",
       "        'Liva GD', 'MM 550 XDB', 'Magna', 'Magna 1.2', 'Magna 1.2 Kappa2',\n",
       "        'Magna O 1.2', 'Magna Plus', 'Marina LS', 'Neo', 'Omni',\n",
       "        'Omni E 8 STR BS IV', 'Omni LPG BS IV', 'Omni Select Variant',\n",
       "        'One SUV', 'PS Diesel', 'Petrol LXI', 'Pleasure 4X2', 'Plus',\n",
       "        'Power Plus SLE', 'Prime 1.3 GLX', 'Prime 1.3 GVS',\n",
       "        'Quadrajet 1.3', 'Quadrajet VX', 'RXT', 'RXT Opt', 'Revotron XM',\n",
       "        'Revotron XZ', 'Ritz', 'Ritz GENUS VXI', 'Ritz LDi', 'Ritz VDi',\n",
       "        'Ritz VXI', 'Ritz VXI ABS', 'RxL Diesel', 'RxL Diesel Travelogue',\n",
       "        'RxL Petrol', 'S', 'S 1.6', 'S Cross Sigma 1.3', 'S MT',\n",
       "        'S i DTEC', 'S10', 'S10 4WD', 'S4', 'SLE BS IV', 'SLX',\n",
       "        'SLX 2.6 Turbo 8 Str', 'SV', 'SX', 'SX 1.2', 'SX4',\n",
       "        'SX4 Celebration Diesel', 'SX4 ZXI MT', 'SXi 1.6 ABS',\n",
       "        'Select Variant', 'Series 320d Sedan', 'Series 320i',\n",
       "        'Series 520d Sedan', 'Series 530i', 'Series 740Li Sedan',\n",
       "        'Sport 2.5 AT', 'Sport Limited Edition', 'Sportz', 'Sportz 1.2',\n",
       "        'Sportz 1.4 CRDI', 'Stingray VXi', 'Summum D4', 'Swift',\n",
       "        'Swift Dzire', 'Swift Dzire Tour LDi', 'Swift Dzire Tour LXi',\n",
       "        'Swift Dzire Tour VDi', 'Swift Dzire Tour VXi', 'Swift Dzire VDi',\n",
       "        'Swift Dzire VXi 1.2 BS IV', 'Swift Dzire ZDi', 'Swift GLAM',\n",
       "        'Swift LDi', 'Swift RS VDI', 'Swift Select Variant', 'Swift VDi',\n",
       "        'Swift VDi ABS', 'Swift VDi BS IV', 'Swift VXI BSIII',\n",
       "        'Swift VXi 1.2 ABS BS IV', 'Swift VXi 1.2 BS IV',\n",
       "        'Swift Vdi BSIII', 'Swift ZXi 1.2 BS IV', 'T O', 'T4 Plus', 'T8',\n",
       "        'Titanium 1.5 TDCi', 'Titanium 1.5L TDCi', 'Trail Select Variant',\n",
       "        'Transform 2.4 GDi MT', 'Transform SX VTVT', 'Trend 1.5 Ti VCT',\n",
       "        'Trend 1.5L TDCi', 'Trend 1.5L Ti VCT', 'Trendline 1.5L D',\n",
       "        'UVA Petrol LT ABS', 'Unlimited 4x4 Diesel', 'V MT',\n",
       "        'V S MT Petrol', 'V2 DLE BS III', 'V2 LS', 'V2 Xeta e GLE',\n",
       "        'VGT CRDi SX ABS', 'VLX 2.2 mHawk Airbag BSIV', 'VLX 2WD BS IV',\n",
       "        'VLX 4WD Airbag', 'VLX Airbag', 'VLX Special Edition BS III',\n",
       "        'VX AT', 'VX MT', 'VX O MT Diesel', 'VX Petrol',\n",
       "        'Verna 1.6 CRDi SX', 'Victa EX 10 by 7 Str BSIII', 'Vitara Brezza',\n",
       "        'Vitara Brezza LDi O', 'Vitara Brezza ZDi', 'Vlx BSIV',\n",
       "        'W Turbo 2.6DX 9 Seater', 'W10', 'W6', 'W8', 'W8 AWD 2013',\n",
       "        'Wagon R', 'Wagon R 1.0 VXi', 'Wagon R AX BSIV', 'Wagon R Duo Lxi',\n",
       "        'Wagon R LXI BS IV', 'Wagon R LXi BS III',\n",
       "        'Wagon R Select Variant', 'Wagon R VXI BS IV',\n",
       "        'Wagon R VXi BS III', 'Wagon R VXi Minor', 'XE 75 PS Diesel',\n",
       "        'XE Portfolio', 'XL', 'XL D Plus', 'XM Diesel', 'XM Petrol', 'XV',\n",
       "        'Xing', 'Xing GLS', 'Xing XL AT eRLX Euro III',\n",
       "        'Xing XL eRLX Euro III', 'ZX CVT', 'ZX EXi', 'ZX GXi', 'ZX VTEC',\n",
       "        'Zen Estilo', 'Zen Estilo LXI Green CNG', 'eCS',\n",
       "        'eCS LS CR4 BS IV', 'eCS LX CR4 BS IV', 'eCS LX TDI BS III',\n",
       "        'eCS VX CR4 BS IV', 'eV2 LS', 'i10', 'i10 Asta 1.1 CRDi',\n",
       "        'i10 Asta 1.2 Kappa VTVT', 'i10 Asta 1.2 Kappa VTVT O',\n",
       "        'i10 Magna 1.2 Kappa VTVT', 'i10 Magna AT 1.2 Kappa VTVT',\n",
       "        'i10 Sportz 1.2 Kappa VTVT', 'i10 Sportz O 1.2 Kappa VTVT', 'i20',\n",
       "        'i20 Asta 1.2', 'i20 Asta 1.4 CRDI', 'i20 Magna 1.2',\n",
       "        'i20 Sportz 1.2', 'sDrive20d', 'xDrive20d xLine'], dtype=object)]"
      ]
     },
     "execution_count": 16,
     "metadata": {},
     "output_type": "execute_result"
    }
   ],
   "source": [
    "ohe.categories_"
   ]
  },
  {
   "cell_type": "code",
   "execution_count": 15,
   "id": "e7be76fe-9701-4e00-9e72-b8279fd675de",
   "metadata": {},
   "outputs": [],
   "source": [
    "#fit OneHotEncoder\n",
    "ohe=OneHotEncoder()\n",
    "ohe.fit(X[['company','fuel_type','Car_Name','Model_Info']])\n"
   ]
  },
  {
   "cell_type": "code",
   "execution_count": null,
   "id": "68b39e4e-8d12-4b0d-a2e1-c8087e18a2d1",
   "metadata": {},
   "outputs": [],
   "source": [
    "#using make_column_transformer to encode and for feature scaling\n",
    "mct=make_column_transformer((OneHotEncoder(categories=ohe.categories_),['company','fuel_type','Car_Name','Model_Info']),\n",
    "                            (StandardScaler(),['year','Driven']),\n",
    "                             remainder='passthrough')\n"
   ]
  },
  {
   "cell_type": "code",
   "execution_count": 17,
   "id": "28834a0b-ef1d-4007-bb0a-727ae092e5af",
   "metadata": {},
   "outputs": [],
   "source": [
    "# creating pipeline\n",
    "from sklearn.linear_model import LinearRegression\n",
    "lr=LinearRegression()\n",
    "pipe=make_pipeline(mct,lr)"
   ]
  },
  {
   "cell_type": "code",
   "execution_count": 24,
   "id": "00afa893-a530-4bac-9a10-075b0cba5b92",
   "metadata": {},
   "outputs": [],
   "source": [
    "# using for loop in which we testing the model using diff random_state and finding the best one\n",
    "scores=[]\n",
    "for i in range(0,101):\n",
    "    X_train,X_test,y_train,y_test=train_test_split(X,y,test_size=0.1,random_state=i)\n",
    "    pipe.fit(X_train,y_train)\n",
    "    y_pred=pipe.predict(X_test)\n",
    "    y_pred=pd.DataFrame(data=y_pred,columns=['result'])\n",
    "    pd.set_option('display.float_format', '{:.0f}'.format)\n",
    "    result = pd.concat([y_test.reset_index(drop=True), y_pred.reset_index(drop=True)], axis=1)\n",
    "    result\n",
    "    score=r2_score(result['Price'],result['result'])\n",
    "    scores.append(score)\n",
    "    "
   ]
  },
  {
   "cell_type": "code",
   "execution_count": 25,
   "id": "b3ad5444-15d6-4738-a433-013cb62462ca",
   "metadata": {},
   "outputs": [
    {
     "name": "stdout",
     "output_type": "stream",
     "text": [
      "0.9342863272876403\n"
     ]
    },
    {
     "data": {
      "text/plain": [
       "48"
      ]
     },
     "execution_count": 25,
     "metadata": {},
     "output_type": "execute_result"
    }
   ],
   "source": [
    "# finding index of high score  and printing it\n",
    "index=np.argmax(scores)\n",
    "print(np.max(scores))\n",
    "index"
   ]
  },
  {
   "cell_type": "code",
   "execution_count": 26,
   "id": "f6b4c16e-8507-4166-87fa-e6d8a6e67de7",
   "metadata": {},
   "outputs": [
    {
     "data": {
      "text/html": [
       "<style>#sk-container-id-2 {color: black;background-color: white;}#sk-container-id-2 pre{padding: 0;}#sk-container-id-2 div.sk-toggleable {background-color: white;}#sk-container-id-2 label.sk-toggleable__label {cursor: pointer;display: block;width: 100%;margin-bottom: 0;padding: 0.3em;box-sizing: border-box;text-align: center;}#sk-container-id-2 label.sk-toggleable__label-arrow:before {content: \"▸\";float: left;margin-right: 0.25em;color: #696969;}#sk-container-id-2 label.sk-toggleable__label-arrow:hover:before {color: black;}#sk-container-id-2 div.sk-estimator:hover label.sk-toggleable__label-arrow:before {color: black;}#sk-container-id-2 div.sk-toggleable__content {max-height: 0;max-width: 0;overflow: hidden;text-align: left;background-color: #f0f8ff;}#sk-container-id-2 div.sk-toggleable__content pre {margin: 0.2em;color: black;border-radius: 0.25em;background-color: #f0f8ff;}#sk-container-id-2 input.sk-toggleable__control:checked~div.sk-toggleable__content {max-height: 200px;max-width: 100%;overflow: auto;}#sk-container-id-2 input.sk-toggleable__control:checked~label.sk-toggleable__label-arrow:before {content: \"▾\";}#sk-container-id-2 div.sk-estimator input.sk-toggleable__control:checked~label.sk-toggleable__label {background-color: #d4ebff;}#sk-container-id-2 div.sk-label input.sk-toggleable__control:checked~label.sk-toggleable__label {background-color: #d4ebff;}#sk-container-id-2 input.sk-hidden--visually {border: 0;clip: rect(1px 1px 1px 1px);clip: rect(1px, 1px, 1px, 1px);height: 1px;margin: -1px;overflow: hidden;padding: 0;position: absolute;width: 1px;}#sk-container-id-2 div.sk-estimator {font-family: monospace;background-color: #f0f8ff;border: 1px dotted black;border-radius: 0.25em;box-sizing: border-box;margin-bottom: 0.5em;}#sk-container-id-2 div.sk-estimator:hover {background-color: #d4ebff;}#sk-container-id-2 div.sk-parallel-item::after {content: \"\";width: 100%;border-bottom: 1px solid gray;flex-grow: 1;}#sk-container-id-2 div.sk-label:hover label.sk-toggleable__label {background-color: #d4ebff;}#sk-container-id-2 div.sk-serial::before {content: \"\";position: absolute;border-left: 1px solid gray;box-sizing: border-box;top: 0;bottom: 0;left: 50%;z-index: 0;}#sk-container-id-2 div.sk-serial {display: flex;flex-direction: column;align-items: center;background-color: white;padding-right: 0.2em;padding-left: 0.2em;position: relative;}#sk-container-id-2 div.sk-item {position: relative;z-index: 1;}#sk-container-id-2 div.sk-parallel {display: flex;align-items: stretch;justify-content: center;background-color: white;position: relative;}#sk-container-id-2 div.sk-item::before, #sk-container-id-2 div.sk-parallel-item::before {content: \"\";position: absolute;border-left: 1px solid gray;box-sizing: border-box;top: 0;bottom: 0;left: 50%;z-index: -1;}#sk-container-id-2 div.sk-parallel-item {display: flex;flex-direction: column;z-index: 1;position: relative;background-color: white;}#sk-container-id-2 div.sk-parallel-item:first-child::after {align-self: flex-end;width: 50%;}#sk-container-id-2 div.sk-parallel-item:last-child::after {align-self: flex-start;width: 50%;}#sk-container-id-2 div.sk-parallel-item:only-child::after {width: 0;}#sk-container-id-2 div.sk-dashed-wrapped {border: 1px dashed gray;margin: 0 0.4em 0.5em 0.4em;box-sizing: border-box;padding-bottom: 0.4em;background-color: white;}#sk-container-id-2 div.sk-label label {font-family: monospace;font-weight: bold;display: inline-block;line-height: 1.2em;}#sk-container-id-2 div.sk-label-container {text-align: center;}#sk-container-id-2 div.sk-container {/* jupyter's `normalize.less` sets `[hidden] { display: none; }` but bootstrap.min.css set `[hidden] { display: none !important; }` so we also need the `!important` here to be able to override the default hidden behavior on the sphinx rendered scikit-learn.org. See: https://github.com/scikit-learn/scikit-learn/issues/21755 */display: inline-block !important;position: relative;}#sk-container-id-2 div.sk-text-repr-fallback {display: none;}</style><div id=\"sk-container-id-2\" class=\"sk-top-container\"><div class=\"sk-text-repr-fallback\"><pre>Pipeline(steps=[(&#x27;columntransformer&#x27;,\n",
       "                 ColumnTransformer(remainder=&#x27;passthrough&#x27;,\n",
       "                                   transformers=[(&#x27;onehotencoder&#x27;,\n",
       "                                                  OneHotEncoder(categories=[array([&#x27;Audi&#x27;, &#x27;BMW&#x27;, &#x27;Chevrolet&#x27;, &#x27;Datsun&#x27;, &#x27;Fiat&#x27;, &#x27;Force&#x27;, &#x27;Ford&#x27;,\n",
       "       &#x27;Hindustan&#x27;, &#x27;Honda&#x27;, &#x27;Hyundai&#x27;, &#x27;Jaguar&#x27;, &#x27;Jeep&#x27;, &#x27;Land&#x27;,\n",
       "       &#x27;Mahindra&#x27;, &#x27;Maruti&#x27;, &#x27;Mercedes&#x27;, &#x27;Mini&#x27;, &#x27;Mitsubishi&#x27;, &#x27;Nissan&#x27;,\n",
       "       &#x27;Renault&#x27;, &#x27;Skoda&#x27;, &#x27;Tata&#x27;, &#x27;Toyota&#x27;, &#x27;Vol...\n",
       "       &#x27;i10 Magna 1.2 Kappa VTVT&#x27;, &#x27;i10 Magna AT 1.2 Kappa VTVT&#x27;,\n",
       "       &#x27;i10 Sportz 1.2 Kappa VTVT&#x27;, &#x27;i10 Sportz O 1.2 Kappa VTVT&#x27;, &#x27;i20&#x27;,\n",
       "       &#x27;i20 Asta 1.2&#x27;, &#x27;i20 Asta 1.4 CRDI&#x27;, &#x27;i20 Magna 1.2&#x27;,\n",
       "       &#x27;i20 Sportz 1.2&#x27;, &#x27;sDrive20d&#x27;, &#x27;xDrive20d xLine&#x27;], dtype=object)]),\n",
       "                                                  [&#x27;company&#x27;, &#x27;fuel_type&#x27;,\n",
       "                                                   &#x27;Car_Name&#x27;, &#x27;Model_Info&#x27;]),\n",
       "                                                 (&#x27;standardscaler&#x27;,\n",
       "                                                  StandardScaler(),\n",
       "                                                  [&#x27;year&#x27;, &#x27;Driven&#x27;])])),\n",
       "                (&#x27;linearregression&#x27;, LinearRegression())])</pre><b>In a Jupyter environment, please rerun this cell to show the HTML representation or trust the notebook. <br />On GitHub, the HTML representation is unable to render, please try loading this page with nbviewer.org.</b></div><div class=\"sk-container\" hidden><div class=\"sk-item sk-dashed-wrapped\"><div class=\"sk-label-container\"><div class=\"sk-label sk-toggleable\"><input class=\"sk-toggleable__control sk-hidden--visually\" id=\"sk-estimator-id-10\" type=\"checkbox\" ><label for=\"sk-estimator-id-10\" class=\"sk-toggleable__label sk-toggleable__label-arrow\">Pipeline</label><div class=\"sk-toggleable__content\"><pre>Pipeline(steps=[(&#x27;columntransformer&#x27;,\n",
       "                 ColumnTransformer(remainder=&#x27;passthrough&#x27;,\n",
       "                                   transformers=[(&#x27;onehotencoder&#x27;,\n",
       "                                                  OneHotEncoder(categories=[array([&#x27;Audi&#x27;, &#x27;BMW&#x27;, &#x27;Chevrolet&#x27;, &#x27;Datsun&#x27;, &#x27;Fiat&#x27;, &#x27;Force&#x27;, &#x27;Ford&#x27;,\n",
       "       &#x27;Hindustan&#x27;, &#x27;Honda&#x27;, &#x27;Hyundai&#x27;, &#x27;Jaguar&#x27;, &#x27;Jeep&#x27;, &#x27;Land&#x27;,\n",
       "       &#x27;Mahindra&#x27;, &#x27;Maruti&#x27;, &#x27;Mercedes&#x27;, &#x27;Mini&#x27;, &#x27;Mitsubishi&#x27;, &#x27;Nissan&#x27;,\n",
       "       &#x27;Renault&#x27;, &#x27;Skoda&#x27;, &#x27;Tata&#x27;, &#x27;Toyota&#x27;, &#x27;Vol...\n",
       "       &#x27;i10 Magna 1.2 Kappa VTVT&#x27;, &#x27;i10 Magna AT 1.2 Kappa VTVT&#x27;,\n",
       "       &#x27;i10 Sportz 1.2 Kappa VTVT&#x27;, &#x27;i10 Sportz O 1.2 Kappa VTVT&#x27;, &#x27;i20&#x27;,\n",
       "       &#x27;i20 Asta 1.2&#x27;, &#x27;i20 Asta 1.4 CRDI&#x27;, &#x27;i20 Magna 1.2&#x27;,\n",
       "       &#x27;i20 Sportz 1.2&#x27;, &#x27;sDrive20d&#x27;, &#x27;xDrive20d xLine&#x27;], dtype=object)]),\n",
       "                                                  [&#x27;company&#x27;, &#x27;fuel_type&#x27;,\n",
       "                                                   &#x27;Car_Name&#x27;, &#x27;Model_Info&#x27;]),\n",
       "                                                 (&#x27;standardscaler&#x27;,\n",
       "                                                  StandardScaler(),\n",
       "                                                  [&#x27;year&#x27;, &#x27;Driven&#x27;])])),\n",
       "                (&#x27;linearregression&#x27;, LinearRegression())])</pre></div></div></div><div class=\"sk-serial\"><div class=\"sk-item sk-dashed-wrapped\"><div class=\"sk-label-container\"><div class=\"sk-label sk-toggleable\"><input class=\"sk-toggleable__control sk-hidden--visually\" id=\"sk-estimator-id-11\" type=\"checkbox\" ><label for=\"sk-estimator-id-11\" class=\"sk-toggleable__label sk-toggleable__label-arrow\">columntransformer: ColumnTransformer</label><div class=\"sk-toggleable__content\"><pre>ColumnTransformer(remainder=&#x27;passthrough&#x27;,\n",
       "                  transformers=[(&#x27;onehotencoder&#x27;,\n",
       "                                 OneHotEncoder(categories=[array([&#x27;Audi&#x27;, &#x27;BMW&#x27;, &#x27;Chevrolet&#x27;, &#x27;Datsun&#x27;, &#x27;Fiat&#x27;, &#x27;Force&#x27;, &#x27;Ford&#x27;,\n",
       "       &#x27;Hindustan&#x27;, &#x27;Honda&#x27;, &#x27;Hyundai&#x27;, &#x27;Jaguar&#x27;, &#x27;Jeep&#x27;, &#x27;Land&#x27;,\n",
       "       &#x27;Mahindra&#x27;, &#x27;Maruti&#x27;, &#x27;Mercedes&#x27;, &#x27;Mini&#x27;, &#x27;Mitsubishi&#x27;, &#x27;Nissan&#x27;,\n",
       "       &#x27;Renault&#x27;, &#x27;Skoda&#x27;, &#x27;Tata&#x27;, &#x27;Toyota&#x27;, &#x27;Volkswagen&#x27;, &#x27;Volvo&#x27;],\n",
       "      dtype=object),\n",
       "                                                           array...\n",
       "       &#x27;i10 Asta 1.2 Kappa VTVT&#x27;, &#x27;i10 Asta 1.2 Kappa VTVT O&#x27;,\n",
       "       &#x27;i10 Magna 1.2 Kappa VTVT&#x27;, &#x27;i10 Magna AT 1.2 Kappa VTVT&#x27;,\n",
       "       &#x27;i10 Sportz 1.2 Kappa VTVT&#x27;, &#x27;i10 Sportz O 1.2 Kappa VTVT&#x27;, &#x27;i20&#x27;,\n",
       "       &#x27;i20 Asta 1.2&#x27;, &#x27;i20 Asta 1.4 CRDI&#x27;, &#x27;i20 Magna 1.2&#x27;,\n",
       "       &#x27;i20 Sportz 1.2&#x27;, &#x27;sDrive20d&#x27;, &#x27;xDrive20d xLine&#x27;], dtype=object)]),\n",
       "                                 [&#x27;company&#x27;, &#x27;fuel_type&#x27;, &#x27;Car_Name&#x27;,\n",
       "                                  &#x27;Model_Info&#x27;]),\n",
       "                                (&#x27;standardscaler&#x27;, StandardScaler(),\n",
       "                                 [&#x27;year&#x27;, &#x27;Driven&#x27;])])</pre></div></div></div><div class=\"sk-parallel\"><div class=\"sk-parallel-item\"><div class=\"sk-item\"><div class=\"sk-label-container\"><div class=\"sk-label sk-toggleable\"><input class=\"sk-toggleable__control sk-hidden--visually\" id=\"sk-estimator-id-12\" type=\"checkbox\" ><label for=\"sk-estimator-id-12\" class=\"sk-toggleable__label sk-toggleable__label-arrow\">onehotencoder</label><div class=\"sk-toggleable__content\"><pre>[&#x27;company&#x27;, &#x27;fuel_type&#x27;, &#x27;Car_Name&#x27;, &#x27;Model_Info&#x27;]</pre></div></div></div><div class=\"sk-serial\"><div class=\"sk-item\"><div class=\"sk-estimator sk-toggleable\"><input class=\"sk-toggleable__control sk-hidden--visually\" id=\"sk-estimator-id-13\" type=\"checkbox\" ><label for=\"sk-estimator-id-13\" class=\"sk-toggleable__label sk-toggleable__label-arrow\">OneHotEncoder</label><div class=\"sk-toggleable__content\"><pre>OneHotEncoder(categories=[array([&#x27;Audi&#x27;, &#x27;BMW&#x27;, &#x27;Chevrolet&#x27;, &#x27;Datsun&#x27;, &#x27;Fiat&#x27;, &#x27;Force&#x27;, &#x27;Ford&#x27;,\n",
       "       &#x27;Hindustan&#x27;, &#x27;Honda&#x27;, &#x27;Hyundai&#x27;, &#x27;Jaguar&#x27;, &#x27;Jeep&#x27;, &#x27;Land&#x27;,\n",
       "       &#x27;Mahindra&#x27;, &#x27;Maruti&#x27;, &#x27;Mercedes&#x27;, &#x27;Mini&#x27;, &#x27;Mitsubishi&#x27;, &#x27;Nissan&#x27;,\n",
       "       &#x27;Renault&#x27;, &#x27;Skoda&#x27;, &#x27;Tata&#x27;, &#x27;Toyota&#x27;, &#x27;Volkswagen&#x27;, &#x27;Volvo&#x27;],\n",
       "      dtype=object),\n",
       "                          array([&#x27;Diesel&#x27;, &#x27;LPG&#x27;, &#x27;Petrol&#x27;], dtype=object),\n",
       "                          array([&#x27;Audi A3&#x27;, &#x27;Audi A4&#x27;, &#x27;Audi A6...\n",
       "       &#x27;Zen Estilo&#x27;, &#x27;Zen Estilo LXI Green CNG&#x27;, &#x27;eCS&#x27;,\n",
       "       &#x27;eCS LS CR4 BS IV&#x27;, &#x27;eCS LX CR4 BS IV&#x27;, &#x27;eCS LX TDI BS III&#x27;,\n",
       "       &#x27;eCS VX CR4 BS IV&#x27;, &#x27;eV2 LS&#x27;, &#x27;i10&#x27;, &#x27;i10 Asta 1.1 CRDi&#x27;,\n",
       "       &#x27;i10 Asta 1.2 Kappa VTVT&#x27;, &#x27;i10 Asta 1.2 Kappa VTVT O&#x27;,\n",
       "       &#x27;i10 Magna 1.2 Kappa VTVT&#x27;, &#x27;i10 Magna AT 1.2 Kappa VTVT&#x27;,\n",
       "       &#x27;i10 Sportz 1.2 Kappa VTVT&#x27;, &#x27;i10 Sportz O 1.2 Kappa VTVT&#x27;, &#x27;i20&#x27;,\n",
       "       &#x27;i20 Asta 1.2&#x27;, &#x27;i20 Asta 1.4 CRDI&#x27;, &#x27;i20 Magna 1.2&#x27;,\n",
       "       &#x27;i20 Sportz 1.2&#x27;, &#x27;sDrive20d&#x27;, &#x27;xDrive20d xLine&#x27;], dtype=object)])</pre></div></div></div></div></div></div><div class=\"sk-parallel-item\"><div class=\"sk-item\"><div class=\"sk-label-container\"><div class=\"sk-label sk-toggleable\"><input class=\"sk-toggleable__control sk-hidden--visually\" id=\"sk-estimator-id-14\" type=\"checkbox\" ><label for=\"sk-estimator-id-14\" class=\"sk-toggleable__label sk-toggleable__label-arrow\">standardscaler</label><div class=\"sk-toggleable__content\"><pre>[&#x27;year&#x27;, &#x27;Driven&#x27;]</pre></div></div></div><div class=\"sk-serial\"><div class=\"sk-item\"><div class=\"sk-estimator sk-toggleable\"><input class=\"sk-toggleable__control sk-hidden--visually\" id=\"sk-estimator-id-15\" type=\"checkbox\" ><label for=\"sk-estimator-id-15\" class=\"sk-toggleable__label sk-toggleable__label-arrow\">StandardScaler</label><div class=\"sk-toggleable__content\"><pre>StandardScaler()</pre></div></div></div></div></div></div><div class=\"sk-parallel-item\"><div class=\"sk-item\"><div class=\"sk-label-container\"><div class=\"sk-label sk-toggleable\"><input class=\"sk-toggleable__control sk-hidden--visually\" id=\"sk-estimator-id-16\" type=\"checkbox\" ><label for=\"sk-estimator-id-16\" class=\"sk-toggleable__label sk-toggleable__label-arrow\">remainder</label><div class=\"sk-toggleable__content\"><pre>[]</pre></div></div></div><div class=\"sk-serial\"><div class=\"sk-item\"><div class=\"sk-estimator sk-toggleable\"><input class=\"sk-toggleable__control sk-hidden--visually\" id=\"sk-estimator-id-17\" type=\"checkbox\" ><label for=\"sk-estimator-id-17\" class=\"sk-toggleable__label sk-toggleable__label-arrow\">passthrough</label><div class=\"sk-toggleable__content\"><pre>passthrough</pre></div></div></div></div></div></div></div></div><div class=\"sk-item\"><div class=\"sk-estimator sk-toggleable\"><input class=\"sk-toggleable__control sk-hidden--visually\" id=\"sk-estimator-id-18\" type=\"checkbox\" ><label for=\"sk-estimator-id-18\" class=\"sk-toggleable__label sk-toggleable__label-arrow\">LinearRegression</label><div class=\"sk-toggleable__content\"><pre>LinearRegression()</pre></div></div></div></div></div></div></div>"
      ],
      "text/plain": [
       "Pipeline(steps=[('columntransformer',\n",
       "                 ColumnTransformer(remainder='passthrough',\n",
       "                                   transformers=[('onehotencoder',\n",
       "                                                  OneHotEncoder(categories=[array(['Audi', 'BMW', 'Chevrolet', 'Datsun', 'Fiat', 'Force', 'Ford',\n",
       "       'Hindustan', 'Honda', 'Hyundai', 'Jaguar', 'Jeep', 'Land',\n",
       "       'Mahindra', 'Maruti', 'Mercedes', 'Mini', 'Mitsubishi', 'Nissan',\n",
       "       'Renault', 'Skoda', 'Tata', 'Toyota', 'Vol...\n",
       "       'i10 Magna 1.2 Kappa VTVT', 'i10 Magna AT 1.2 Kappa VTVT',\n",
       "       'i10 Sportz 1.2 Kappa VTVT', 'i10 Sportz O 1.2 Kappa VTVT', 'i20',\n",
       "       'i20 Asta 1.2', 'i20 Asta 1.4 CRDI', 'i20 Magna 1.2',\n",
       "       'i20 Sportz 1.2', 'sDrive20d', 'xDrive20d xLine'], dtype=object)]),\n",
       "                                                  ['company', 'fuel_type',\n",
       "                                                   'Car_Name', 'Model_Info']),\n",
       "                                                 ('standardscaler',\n",
       "                                                  StandardScaler(),\n",
       "                                                  ['year', 'Driven'])])),\n",
       "                ('linearregression', LinearRegression())])"
      ]
     },
     "execution_count": 26,
     "metadata": {},
     "output_type": "execute_result"
    }
   ],
   "source": [
    "# testing model using best random_state  again\n",
    "X_train,X_test,y_train,y_test=train_test_split(X,y,test_size=0.1,random_state=48)\n",
    "#creating pipeline again\n",
    "pipe.fit(X_train,y_train)"
   ]
  },
  {
   "cell_type": "code",
   "execution_count": 27,
   "id": "aa7e6c52-98ad-4ae3-bb62-17c7533aaa29",
   "metadata": {},
   "outputs": [
    {
     "data": {
      "text/html": [
       "<div>\n",
       "<style scoped>\n",
       "    .dataframe tbody tr th:only-of-type {\n",
       "        vertical-align: middle;\n",
       "    }\n",
       "\n",
       "    .dataframe tbody tr th {\n",
       "        vertical-align: top;\n",
       "    }\n",
       "\n",
       "    .dataframe thead th {\n",
       "        text-align: right;\n",
       "    }\n",
       "</style>\n",
       "<table border=\"1\" class=\"dataframe\">\n",
       "  <thead>\n",
       "    <tr style=\"text-align: right;\">\n",
       "      <th></th>\n",
       "      <th>company</th>\n",
       "      <th>year</th>\n",
       "      <th>fuel_type</th>\n",
       "      <th>Driven</th>\n",
       "      <th>Car_Name</th>\n",
       "      <th>Model_Info</th>\n",
       "    </tr>\n",
       "  </thead>\n",
       "  <tbody>\n",
       "    <tr>\n",
       "      <th>0</th>\n",
       "      <td>Ford</td>\n",
       "      <td>2012</td>\n",
       "      <td>Diesel</td>\n",
       "      <td>42000</td>\n",
       "      <td>Ford Figo</td>\n",
       "      <td>Diesel EXI</td>\n",
       "    </tr>\n",
       "  </tbody>\n",
       "</table>\n",
       "</div>"
      ],
      "text/plain": [
       "  company  year fuel_type  Driven   Car_Name  Model_Info\n",
       "0    Ford  2012    Diesel   42000  Ford Figo  Diesel EXI"
      ]
     },
     "execution_count": 27,
     "metadata": {},
     "output_type": "execute_result"
    }
   ],
   "source": [
    "#testing model using myinput\n",
    "myinput=pd.DataFrame([[\"Ford\",2012,\"Diesel\",42000,'Ford Figo','Diesel EXI']],columns=['company','year','fuel_type','Driven','Car_Name','Model_Info'])\n",
    "myinput"
   ]
  },
  {
   "cell_type": "code",
   "execution_count": 29,
   "id": "6219cc1b-fde8-4908-82b5-53eb6f90b73a",
   "metadata": {},
   "outputs": [
    {
     "data": {
      "text/plain": [
       "164095.0"
      ]
     },
     "execution_count": 29,
     "metadata": {},
     "output_type": "execute_result"
    }
   ],
   "source": [
    "res=pipe.predict(myinput)\n",
    "result=np.round(res[0,0])\n",
    "result"
   ]
  },
  {
   "cell_type": "code",
   "execution_count": 34,
   "id": "8e78889a-1d11-4930-91d4-250c4d4afa30",
   "metadata": {},
   "outputs": [],
   "source": [
    "import pickle as pkl\n",
    "# Save your trained model pipeline to a file\n",
    "with open(\"Car-price-prediction.pkl\", \"wb\") as f:\n",
    "    pkl.dump(pipe, f)\n"
   ]
  },
  {
   "cell_type": "code",
   "execution_count": null,
   "id": "0637ff21-acd2-4dc0-ac38-5844088bdabc",
   "metadata": {},
   "outputs": [],
   "source": []
  }
 ],
 "metadata": {
  "kernelspec": {
   "display_name": "Python 3 (ipykernel)",
   "language": "python",
   "name": "python3"
  },
  "language_info": {
   "codemirror_mode": {
    "name": "ipython",
    "version": 3
   },
   "file_extension": ".py",
   "mimetype": "text/x-python",
   "name": "python",
   "nbconvert_exporter": "python",
   "pygments_lexer": "ipython3",
   "version": "3.11.7"
  }
 },
 "nbformat": 4,
 "nbformat_minor": 5
}
